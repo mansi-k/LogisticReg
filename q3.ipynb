{
  "nbformat": 4,
  "nbformat_minor": 0,
  "metadata": {
    "kernelspec": {
      "display_name": "Python 3",
      "language": "python",
      "name": "python3"
    },
    "language_info": {
      "codemirror_mode": {
        "name": "ipython",
        "version": 3
      },
      "file_extension": ".py",
      "mimetype": "text/x-python",
      "name": "python",
      "nbconvert_exporter": "python",
      "pygments_lexer": "ipython3",
      "version": "3.7.6"
    },
    "colab": {
      "name": "sol3.ipynb",
      "provenance": [],
      "collapsed_sections": []
    }
  },
  "cells": [
    {
      "cell_type": "markdown",
      "metadata": {
        "id": "1OzpIxVjs0EJ"
      },
      "source": [
        "\n",
        "1. You are provided the titanic dataset. Load the dataset and perform splitting into training and test sets with 70:30 ratio randomly using test train split.\n",
        "2. Use the Logistic regression created from scratch (from the prev question) in this question as well.\n",
        "3. Data cleaning plays a major role in this question. Report all the methods used by you in the ipynb.\n",
        "\n",
        "--> \n",
        "\n",
        "i. Check for missing values\n",
        "\n",
        "ii. Drop Columns & Handle missing values\n",
        "\n",
        "iii. Create dummies for categorical features\n",
        "\n",
        "you are free to perform other data cleaning to improve your results.\n",
        "\n",
        "\n",
        "\n",
        "4. Report accuracy score, Confusion matrix, heat map, classifiaction report and any other metrics you feel useful."
      ]
    },
    {
      "cell_type": "markdown",
      "metadata": {
        "id": "xhEKd9yqs0ES"
      },
      "source": [
        "dataset link : \n",
        "https://iiitaphyd-my.sharepoint.com/:f:/g/personal/apurva_jadhav_students_iiit_ac_in/Eictt5_qmoxNqezgQQiMWeIBph4sxlfA6jWAJNPnV2SF9Q?e=mQmYN0 \n",
        "\n",
        "(titanic.csv)\n"
      ]
    },
    {
      "cell_type": "code",
      "metadata": {
        "colab": {
          "base_uri": "https://localhost:8080/"
        },
        "id": "PRcYL9_2s0ET",
        "outputId": "a82b6f6c-55ec-4477-d088-8fe9b1c2d9f9"
      },
      "source": [
        "from google.colab import drive\n",
        "drive.mount('/content/drive')\n",
        "%cd /content/drive/MyDrive/SMAI/Assignment2/q_datasets\n",
        "!pwd\n",
        "!ls"
      ],
      "execution_count": 1,
      "outputs": [
        {
          "output_type": "stream",
          "text": [
            "Mounted at /content/drive\n",
            "/content/drive/MyDrive/SMAI/Assignment2/q_datasets\n",
            "/content/drive/MyDrive/SMAI/Assignment2/q_datasets\n",
            "'archive (1).zip'   fashion_mnist   titanic.csv   X.npy   Y.npy\n"
          ],
          "name": "stdout"
        }
      ]
    },
    {
      "cell_type": "code",
      "metadata": {
        "id": "BzVzNzGItEx2"
      },
      "source": [
        "import pandas as pd\n",
        "import numpy as np\n",
        "from sklearn.model_selection import train_test_split\n",
        "from sklearn.preprocessing import StandardScaler\n",
        "from sklearn.preprocessing import Normalizer\n",
        "import matplotlib.pyplot as plt\n",
        "from sklearn.metrics import r2_score, mean_absolute_error, mean_squared_error\n",
        "from sklearn.linear_model import LogisticRegression\n",
        "from sklearn import preprocessing\n",
        "from sklearn.metrics import confusion_matrix\n",
        "import seaborn as sn\n",
        "from sklearn.preprocessing import OneHotEncoder"
      ],
      "execution_count": 2,
      "outputs": []
    },
    {
      "cell_type": "code",
      "metadata": {
        "colab": {
          "base_uri": "https://localhost:8080/",
          "height": 841
        },
        "id": "4_SjUl59uMFl",
        "outputId": "8bc0b21a-edfc-4088-a2a4-f5b3e3b67cda"
      },
      "source": [
        "df_data_org = pd.read_csv('titanic.csv', na_values=np.NaN)\n",
        "print(df_data_org.shape)\n",
        "display(df_data_org.head())\n",
        "display(df_data_org.info())\n",
        "display(df_data_org.describe())"
      ],
      "execution_count": 28,
      "outputs": [
        {
          "output_type": "stream",
          "text": [
            "(891, 12)\n"
          ],
          "name": "stdout"
        },
        {
          "output_type": "display_data",
          "data": {
            "text/html": [
              "<div>\n",
              "<style scoped>\n",
              "    .dataframe tbody tr th:only-of-type {\n",
              "        vertical-align: middle;\n",
              "    }\n",
              "\n",
              "    .dataframe tbody tr th {\n",
              "        vertical-align: top;\n",
              "    }\n",
              "\n",
              "    .dataframe thead th {\n",
              "        text-align: right;\n",
              "    }\n",
              "</style>\n",
              "<table border=\"1\" class=\"dataframe\">\n",
              "  <thead>\n",
              "    <tr style=\"text-align: right;\">\n",
              "      <th></th>\n",
              "      <th>PassengerId</th>\n",
              "      <th>Survived</th>\n",
              "      <th>Pclass</th>\n",
              "      <th>Name</th>\n",
              "      <th>Sex</th>\n",
              "      <th>Age</th>\n",
              "      <th>SibSp</th>\n",
              "      <th>Parch</th>\n",
              "      <th>Ticket</th>\n",
              "      <th>Fare</th>\n",
              "      <th>Cabin</th>\n",
              "      <th>Embarked</th>\n",
              "    </tr>\n",
              "  </thead>\n",
              "  <tbody>\n",
              "    <tr>\n",
              "      <th>0</th>\n",
              "      <td>1</td>\n",
              "      <td>0</td>\n",
              "      <td>3</td>\n",
              "      <td>Braund, Mr. Owen Harris</td>\n",
              "      <td>male</td>\n",
              "      <td>22.0</td>\n",
              "      <td>1</td>\n",
              "      <td>0</td>\n",
              "      <td>A/5 21171</td>\n",
              "      <td>7.2500</td>\n",
              "      <td>NaN</td>\n",
              "      <td>S</td>\n",
              "    </tr>\n",
              "    <tr>\n",
              "      <th>1</th>\n",
              "      <td>2</td>\n",
              "      <td>1</td>\n",
              "      <td>1</td>\n",
              "      <td>Cumings, Mrs. John Bradley (Florence Briggs Th...</td>\n",
              "      <td>female</td>\n",
              "      <td>38.0</td>\n",
              "      <td>1</td>\n",
              "      <td>0</td>\n",
              "      <td>PC 17599</td>\n",
              "      <td>71.2833</td>\n",
              "      <td>C85</td>\n",
              "      <td>C</td>\n",
              "    </tr>\n",
              "    <tr>\n",
              "      <th>2</th>\n",
              "      <td>3</td>\n",
              "      <td>1</td>\n",
              "      <td>3</td>\n",
              "      <td>Heikkinen, Miss. Laina</td>\n",
              "      <td>female</td>\n",
              "      <td>26.0</td>\n",
              "      <td>0</td>\n",
              "      <td>0</td>\n",
              "      <td>STON/O2. 3101282</td>\n",
              "      <td>7.9250</td>\n",
              "      <td>NaN</td>\n",
              "      <td>S</td>\n",
              "    </tr>\n",
              "    <tr>\n",
              "      <th>3</th>\n",
              "      <td>4</td>\n",
              "      <td>1</td>\n",
              "      <td>1</td>\n",
              "      <td>Futrelle, Mrs. Jacques Heath (Lily May Peel)</td>\n",
              "      <td>female</td>\n",
              "      <td>35.0</td>\n",
              "      <td>1</td>\n",
              "      <td>0</td>\n",
              "      <td>113803</td>\n",
              "      <td>53.1000</td>\n",
              "      <td>C123</td>\n",
              "      <td>S</td>\n",
              "    </tr>\n",
              "    <tr>\n",
              "      <th>4</th>\n",
              "      <td>5</td>\n",
              "      <td>0</td>\n",
              "      <td>3</td>\n",
              "      <td>Allen, Mr. William Henry</td>\n",
              "      <td>male</td>\n",
              "      <td>35.0</td>\n",
              "      <td>0</td>\n",
              "      <td>0</td>\n",
              "      <td>373450</td>\n",
              "      <td>8.0500</td>\n",
              "      <td>NaN</td>\n",
              "      <td>S</td>\n",
              "    </tr>\n",
              "  </tbody>\n",
              "</table>\n",
              "</div>"
            ],
            "text/plain": [
              "   PassengerId  Survived  Pclass  ...     Fare Cabin  Embarked\n",
              "0            1         0       3  ...   7.2500   NaN         S\n",
              "1            2         1       1  ...  71.2833   C85         C\n",
              "2            3         1       3  ...   7.9250   NaN         S\n",
              "3            4         1       1  ...  53.1000  C123         S\n",
              "4            5         0       3  ...   8.0500   NaN         S\n",
              "\n",
              "[5 rows x 12 columns]"
            ]
          },
          "metadata": {
            "tags": []
          }
        },
        {
          "output_type": "stream",
          "text": [
            "<class 'pandas.core.frame.DataFrame'>\n",
            "RangeIndex: 891 entries, 0 to 890\n",
            "Data columns (total 12 columns):\n",
            " #   Column       Non-Null Count  Dtype  \n",
            "---  ------       --------------  -----  \n",
            " 0   PassengerId  891 non-null    int64  \n",
            " 1   Survived     891 non-null    int64  \n",
            " 2   Pclass       891 non-null    int64  \n",
            " 3   Name         891 non-null    object \n",
            " 4   Sex          891 non-null    object \n",
            " 5   Age          714 non-null    float64\n",
            " 6   SibSp        891 non-null    int64  \n",
            " 7   Parch        891 non-null    int64  \n",
            " 8   Ticket       891 non-null    object \n",
            " 9   Fare         891 non-null    float64\n",
            " 10  Cabin        204 non-null    object \n",
            " 11  Embarked     889 non-null    object \n",
            "dtypes: float64(2), int64(5), object(5)\n",
            "memory usage: 83.7+ KB\n"
          ],
          "name": "stdout"
        },
        {
          "output_type": "display_data",
          "data": {
            "text/plain": [
              "None"
            ]
          },
          "metadata": {
            "tags": []
          }
        },
        {
          "output_type": "display_data",
          "data": {
            "text/html": [
              "<div>\n",
              "<style scoped>\n",
              "    .dataframe tbody tr th:only-of-type {\n",
              "        vertical-align: middle;\n",
              "    }\n",
              "\n",
              "    .dataframe tbody tr th {\n",
              "        vertical-align: top;\n",
              "    }\n",
              "\n",
              "    .dataframe thead th {\n",
              "        text-align: right;\n",
              "    }\n",
              "</style>\n",
              "<table border=\"1\" class=\"dataframe\">\n",
              "  <thead>\n",
              "    <tr style=\"text-align: right;\">\n",
              "      <th></th>\n",
              "      <th>PassengerId</th>\n",
              "      <th>Survived</th>\n",
              "      <th>Pclass</th>\n",
              "      <th>Age</th>\n",
              "      <th>SibSp</th>\n",
              "      <th>Parch</th>\n",
              "      <th>Fare</th>\n",
              "    </tr>\n",
              "  </thead>\n",
              "  <tbody>\n",
              "    <tr>\n",
              "      <th>count</th>\n",
              "      <td>891.000000</td>\n",
              "      <td>891.000000</td>\n",
              "      <td>891.000000</td>\n",
              "      <td>714.000000</td>\n",
              "      <td>891.000000</td>\n",
              "      <td>891.000000</td>\n",
              "      <td>891.000000</td>\n",
              "    </tr>\n",
              "    <tr>\n",
              "      <th>mean</th>\n",
              "      <td>446.000000</td>\n",
              "      <td>0.383838</td>\n",
              "      <td>2.308642</td>\n",
              "      <td>29.699118</td>\n",
              "      <td>0.523008</td>\n",
              "      <td>0.381594</td>\n",
              "      <td>32.204208</td>\n",
              "    </tr>\n",
              "    <tr>\n",
              "      <th>std</th>\n",
              "      <td>257.353842</td>\n",
              "      <td>0.486592</td>\n",
              "      <td>0.836071</td>\n",
              "      <td>14.526497</td>\n",
              "      <td>1.102743</td>\n",
              "      <td>0.806057</td>\n",
              "      <td>49.693429</td>\n",
              "    </tr>\n",
              "    <tr>\n",
              "      <th>min</th>\n",
              "      <td>1.000000</td>\n",
              "      <td>0.000000</td>\n",
              "      <td>1.000000</td>\n",
              "      <td>0.420000</td>\n",
              "      <td>0.000000</td>\n",
              "      <td>0.000000</td>\n",
              "      <td>0.000000</td>\n",
              "    </tr>\n",
              "    <tr>\n",
              "      <th>25%</th>\n",
              "      <td>223.500000</td>\n",
              "      <td>0.000000</td>\n",
              "      <td>2.000000</td>\n",
              "      <td>20.125000</td>\n",
              "      <td>0.000000</td>\n",
              "      <td>0.000000</td>\n",
              "      <td>7.910400</td>\n",
              "    </tr>\n",
              "    <tr>\n",
              "      <th>50%</th>\n",
              "      <td>446.000000</td>\n",
              "      <td>0.000000</td>\n",
              "      <td>3.000000</td>\n",
              "      <td>28.000000</td>\n",
              "      <td>0.000000</td>\n",
              "      <td>0.000000</td>\n",
              "      <td>14.454200</td>\n",
              "    </tr>\n",
              "    <tr>\n",
              "      <th>75%</th>\n",
              "      <td>668.500000</td>\n",
              "      <td>1.000000</td>\n",
              "      <td>3.000000</td>\n",
              "      <td>38.000000</td>\n",
              "      <td>1.000000</td>\n",
              "      <td>0.000000</td>\n",
              "      <td>31.000000</td>\n",
              "    </tr>\n",
              "    <tr>\n",
              "      <th>max</th>\n",
              "      <td>891.000000</td>\n",
              "      <td>1.000000</td>\n",
              "      <td>3.000000</td>\n",
              "      <td>80.000000</td>\n",
              "      <td>8.000000</td>\n",
              "      <td>6.000000</td>\n",
              "      <td>512.329200</td>\n",
              "    </tr>\n",
              "  </tbody>\n",
              "</table>\n",
              "</div>"
            ],
            "text/plain": [
              "       PassengerId    Survived      Pclass  ...       SibSp       Parch        Fare\n",
              "count   891.000000  891.000000  891.000000  ...  891.000000  891.000000  891.000000\n",
              "mean    446.000000    0.383838    2.308642  ...    0.523008    0.381594   32.204208\n",
              "std     257.353842    0.486592    0.836071  ...    1.102743    0.806057   49.693429\n",
              "min       1.000000    0.000000    1.000000  ...    0.000000    0.000000    0.000000\n",
              "25%     223.500000    0.000000    2.000000  ...    0.000000    0.000000    7.910400\n",
              "50%     446.000000    0.000000    3.000000  ...    0.000000    0.000000   14.454200\n",
              "75%     668.500000    1.000000    3.000000  ...    1.000000    0.000000   31.000000\n",
              "max     891.000000    1.000000    3.000000  ...    8.000000    6.000000  512.329200\n",
              "\n",
              "[8 rows x 7 columns]"
            ]
          },
          "metadata": {
            "tags": []
          }
        }
      ]
    },
    {
      "cell_type": "code",
      "metadata": {
        "colab": {
          "base_uri": "https://localhost:8080/"
        },
        "id": "-YrpTV44uQ8G",
        "outputId": "97ba2cfe-018c-4a4f-c5ac-c7515aa3ad56"
      },
      "source": [
        "# checking missing valued columns with counts\n",
        "missing_val_count_by_column = (df_data_org.isnull().sum())\n",
        "print(missing_val_count_by_column[missing_val_count_by_column > 0])"
      ],
      "execution_count": 29,
      "outputs": [
        {
          "output_type": "stream",
          "text": [
            "Age         177\n",
            "Cabin       687\n",
            "Embarked      2\n",
            "dtype: int64\n"
          ],
          "name": "stdout"
        }
      ]
    },
    {
      "cell_type": "code",
      "metadata": {
        "colab": {
          "base_uri": "https://localhost:8080/"
        },
        "id": "r4Z1u69iudN4",
        "outputId": "19bbfe9f-d5ad-4a0a-a8ec-7eaf4b26ff95"
      },
      "source": [
        "### Embarked has only 2 null rows, so remove those rows\n",
        "df_data_org = df_data_org[df_data_org['Embarked'].notna()]\n",
        "print(df_data_org.shape)\n",
        "missing_val_count_by_column = (df_data_org.isnull().sum())\n",
        "print(missing_val_count_by_column[missing_val_count_by_column > 0])"
      ],
      "execution_count": 30,
      "outputs": [
        {
          "output_type": "stream",
          "text": [
            "(889, 12)\n",
            "Age      177\n",
            "Cabin    687\n",
            "dtype: int64\n"
          ],
          "name": "stdout"
        }
      ]
    },
    {
      "cell_type": "code",
      "metadata": {
        "colab": {
          "base_uri": "https://localhost:8080/",
          "height": 408
        },
        "id": "fdlZ-aazuiZo",
        "outputId": "e694ead8-22b2-4052-f652-0519416b75e5"
      },
      "source": [
        "### Replace missing age with median age (to keep the distribution same) of each (pclass, sex) group\n",
        "df_data_org['Age'] = df_data_org.groupby(['Sex','Pclass'])['Age'].apply(lambda a: a.fillna(a.median()))\n",
        "print(df_data_org.shape)\n",
        "missing_val_count_by_column = (df_data_org.isnull().sum())\n",
        "print(missing_val_count_by_column[missing_val_count_by_column > 0])\n",
        "display(df_data_org.info())"
      ],
      "execution_count": 31,
      "outputs": [
        {
          "output_type": "stream",
          "text": [
            "(889, 12)\n",
            "Cabin    687\n",
            "dtype: int64\n",
            "<class 'pandas.core.frame.DataFrame'>\n",
            "Int64Index: 889 entries, 0 to 890\n",
            "Data columns (total 12 columns):\n",
            " #   Column       Non-Null Count  Dtype  \n",
            "---  ------       --------------  -----  \n",
            " 0   PassengerId  889 non-null    int64  \n",
            " 1   Survived     889 non-null    int64  \n",
            " 2   Pclass       889 non-null    int64  \n",
            " 3   Name         889 non-null    object \n",
            " 4   Sex          889 non-null    object \n",
            " 5   Age          889 non-null    float64\n",
            " 6   SibSp        889 non-null    int64  \n",
            " 7   Parch        889 non-null    int64  \n",
            " 8   Ticket       889 non-null    object \n",
            " 9   Fare         889 non-null    float64\n",
            " 10  Cabin        202 non-null    object \n",
            " 11  Embarked     889 non-null    object \n",
            "dtypes: float64(2), int64(5), object(5)\n",
            "memory usage: 130.3+ KB\n"
          ],
          "name": "stdout"
        },
        {
          "output_type": "display_data",
          "data": {
            "text/plain": [
              "None"
            ]
          },
          "metadata": {
            "tags": []
          }
        }
      ]
    },
    {
      "cell_type": "markdown",
      "metadata": {
        "id": "6N8WppH8vN1M"
      },
      "source": [
        "Though cabin has less non-null rows, the floor on which a person stayed matters as it tells if he could reach the top-floor quickly or no, So extacted only the floow (1st char) of the cabin number"
      ]
    },
    {
      "cell_type": "code",
      "metadata": {
        "colab": {
          "base_uri": "https://localhost:8080/",
          "height": 391
        },
        "id": "GAUfHpvsutZr",
        "outputId": "d77b0ca1-90bf-4501-a74a-62ff1a9f73cb"
      },
      "source": [
        "df_data_org['Cabin_floor'] = df_data_org['Cabin'].apply(lambda c: c[0] if pd.notnull(c) else 'M')\n",
        "df_data_org = df_data_org.drop(['Cabin'], axis=1)\n",
        "print(df_data_org.shape)\n",
        "missing_val_count_by_column = (df_data_org.isnull().sum())\n",
        "print(missing_val_count_by_column[missing_val_count_by_column > 0])\n",
        "display(df_data_org.info())"
      ],
      "execution_count": 32,
      "outputs": [
        {
          "output_type": "stream",
          "text": [
            "(889, 12)\n",
            "Series([], dtype: int64)\n",
            "<class 'pandas.core.frame.DataFrame'>\n",
            "Int64Index: 889 entries, 0 to 890\n",
            "Data columns (total 12 columns):\n",
            " #   Column       Non-Null Count  Dtype  \n",
            "---  ------       --------------  -----  \n",
            " 0   PassengerId  889 non-null    int64  \n",
            " 1   Survived     889 non-null    int64  \n",
            " 2   Pclass       889 non-null    int64  \n",
            " 3   Name         889 non-null    object \n",
            " 4   Sex          889 non-null    object \n",
            " 5   Age          889 non-null    float64\n",
            " 6   SibSp        889 non-null    int64  \n",
            " 7   Parch        889 non-null    int64  \n",
            " 8   Ticket       889 non-null    object \n",
            " 9   Fare         889 non-null    float64\n",
            " 10  Embarked     889 non-null    object \n",
            " 11  Cabin_floor  889 non-null    object \n",
            "dtypes: float64(2), int64(5), object(5)\n",
            "memory usage: 130.3+ KB\n"
          ],
          "name": "stdout"
        },
        {
          "output_type": "display_data",
          "data": {
            "text/plain": [
              "None"
            ]
          },
          "metadata": {
            "tags": []
          }
        }
      ]
    },
    {
      "cell_type": "markdown",
      "metadata": {
        "id": "pVYcz8pYyz9N"
      },
      "source": [
        "Dropping columns passenger-id, name and ticket as they are unique for every person and do dot contain any specific information"
      ]
    },
    {
      "cell_type": "code",
      "metadata": {
        "colab": {
          "base_uri": "https://localhost:8080/",
          "height": 527
        },
        "id": "oNy6jD47yyTw",
        "outputId": "86acad83-9e33-4693-ff6b-c1578adee38c"
      },
      "source": [
        "df_data_org = df_data_org.drop(['PassengerId', 'Name', 'Ticket'], axis=1)\n",
        "print(df_data_org.shape)\n",
        "missing_val_count_by_column = (df_data_org.isnull().sum())\n",
        "print(missing_val_count_by_column[missing_val_count_by_column > 0])\n",
        "display(df_data_org.info())\n",
        "display(df_data_org.head())"
      ],
      "execution_count": 33,
      "outputs": [
        {
          "output_type": "stream",
          "text": [
            "(889, 9)\n",
            "Series([], dtype: int64)\n",
            "<class 'pandas.core.frame.DataFrame'>\n",
            "Int64Index: 889 entries, 0 to 890\n",
            "Data columns (total 9 columns):\n",
            " #   Column       Non-Null Count  Dtype  \n",
            "---  ------       --------------  -----  \n",
            " 0   Survived     889 non-null    int64  \n",
            " 1   Pclass       889 non-null    int64  \n",
            " 2   Sex          889 non-null    object \n",
            " 3   Age          889 non-null    float64\n",
            " 4   SibSp        889 non-null    int64  \n",
            " 5   Parch        889 non-null    int64  \n",
            " 6   Fare         889 non-null    float64\n",
            " 7   Embarked     889 non-null    object \n",
            " 8   Cabin_floor  889 non-null    object \n",
            "dtypes: float64(2), int64(4), object(3)\n",
            "memory usage: 109.5+ KB\n"
          ],
          "name": "stdout"
        },
        {
          "output_type": "display_data",
          "data": {
            "text/plain": [
              "None"
            ]
          },
          "metadata": {
            "tags": []
          }
        },
        {
          "output_type": "display_data",
          "data": {
            "text/html": [
              "<div>\n",
              "<style scoped>\n",
              "    .dataframe tbody tr th:only-of-type {\n",
              "        vertical-align: middle;\n",
              "    }\n",
              "\n",
              "    .dataframe tbody tr th {\n",
              "        vertical-align: top;\n",
              "    }\n",
              "\n",
              "    .dataframe thead th {\n",
              "        text-align: right;\n",
              "    }\n",
              "</style>\n",
              "<table border=\"1\" class=\"dataframe\">\n",
              "  <thead>\n",
              "    <tr style=\"text-align: right;\">\n",
              "      <th></th>\n",
              "      <th>Survived</th>\n",
              "      <th>Pclass</th>\n",
              "      <th>Sex</th>\n",
              "      <th>Age</th>\n",
              "      <th>SibSp</th>\n",
              "      <th>Parch</th>\n",
              "      <th>Fare</th>\n",
              "      <th>Embarked</th>\n",
              "      <th>Cabin_floor</th>\n",
              "    </tr>\n",
              "  </thead>\n",
              "  <tbody>\n",
              "    <tr>\n",
              "      <th>0</th>\n",
              "      <td>0</td>\n",
              "      <td>3</td>\n",
              "      <td>male</td>\n",
              "      <td>22.0</td>\n",
              "      <td>1</td>\n",
              "      <td>0</td>\n",
              "      <td>7.2500</td>\n",
              "      <td>S</td>\n",
              "      <td>M</td>\n",
              "    </tr>\n",
              "    <tr>\n",
              "      <th>1</th>\n",
              "      <td>1</td>\n",
              "      <td>1</td>\n",
              "      <td>female</td>\n",
              "      <td>38.0</td>\n",
              "      <td>1</td>\n",
              "      <td>0</td>\n",
              "      <td>71.2833</td>\n",
              "      <td>C</td>\n",
              "      <td>C</td>\n",
              "    </tr>\n",
              "    <tr>\n",
              "      <th>2</th>\n",
              "      <td>1</td>\n",
              "      <td>3</td>\n",
              "      <td>female</td>\n",
              "      <td>26.0</td>\n",
              "      <td>0</td>\n",
              "      <td>0</td>\n",
              "      <td>7.9250</td>\n",
              "      <td>S</td>\n",
              "      <td>M</td>\n",
              "    </tr>\n",
              "    <tr>\n",
              "      <th>3</th>\n",
              "      <td>1</td>\n",
              "      <td>1</td>\n",
              "      <td>female</td>\n",
              "      <td>35.0</td>\n",
              "      <td>1</td>\n",
              "      <td>0</td>\n",
              "      <td>53.1000</td>\n",
              "      <td>S</td>\n",
              "      <td>C</td>\n",
              "    </tr>\n",
              "    <tr>\n",
              "      <th>4</th>\n",
              "      <td>0</td>\n",
              "      <td>3</td>\n",
              "      <td>male</td>\n",
              "      <td>35.0</td>\n",
              "      <td>0</td>\n",
              "      <td>0</td>\n",
              "      <td>8.0500</td>\n",
              "      <td>S</td>\n",
              "      <td>M</td>\n",
              "    </tr>\n",
              "  </tbody>\n",
              "</table>\n",
              "</div>"
            ],
            "text/plain": [
              "   Survived  Pclass     Sex   Age  SibSp  Parch     Fare Embarked Cabin_floor\n",
              "0         0       3    male  22.0      1      0   7.2500        S           M\n",
              "1         1       1  female  38.0      1      0  71.2833        C           C\n",
              "2         1       3  female  26.0      0      0   7.9250        S           M\n",
              "3         1       1  female  35.0      1      0  53.1000        S           C\n",
              "4         0       3    male  35.0      0      0   8.0500        S           M"
            ]
          },
          "metadata": {
            "tags": []
          }
        }
      ]
    },
    {
      "cell_type": "markdown",
      "metadata": {
        "id": "CN_1R1S2ztOu"
      },
      "source": [
        "Converting to one-hot encoding for classes: Sex, Cabin_floor and Embarked. Ordinal encoding is not used for Embarked as the ship sank before anyone could reach the destination so there is no order. For cabin_floor, many values were missing so we cannot assign proper order for missing category so we keep it one-hot encoded"
      ]
    },
    {
      "cell_type": "code",
      "metadata": {
        "colab": {
          "base_uri": "https://localhost:8080/",
          "height": 700
        },
        "id": "b9HDBRr4zCON",
        "outputId": "422ba3eb-6ed7-4a58-8731-37652243e7be"
      },
      "source": [
        "cat_to_num = {\"Sex\":{'female':0, 'male':1}}\n",
        "df_data_org = df_data_org.replace(cat_to_num)\n",
        "\n",
        "enc_feats = []\n",
        "\n",
        "for feat in ['Cabin_floor', 'Embarked']:\n",
        "    onehot_enc = OneHotEncoder().fit_transform(df_data_org[feat].values.reshape(-1,1)).toarray()\n",
        "    n = df_data_org[feat].nunique()\n",
        "    colnames = [feat+'_'+str(i) for i in range(n)]\n",
        "    df_onehotenc = pd.DataFrame(onehot_enc, columns=colnames, index=df_data_org.index)\n",
        "    enc_feats.append(df_onehotenc)\n",
        "    df_data_org.drop([feat], axis=1, inplace=True)\n",
        "\n",
        "df_data_org = pd.concat([df_data_org, *enc_feats], axis=1)  \n",
        "  \n",
        "\n",
        "print(df_data_org.shape)\n",
        "display(df_data_org.head())\n",
        "display(df_data_org.info())"
      ],
      "execution_count": 34,
      "outputs": [
        {
          "output_type": "stream",
          "text": [
            "(889, 19)\n"
          ],
          "name": "stdout"
        },
        {
          "output_type": "display_data",
          "data": {
            "text/html": [
              "<div>\n",
              "<style scoped>\n",
              "    .dataframe tbody tr th:only-of-type {\n",
              "        vertical-align: middle;\n",
              "    }\n",
              "\n",
              "    .dataframe tbody tr th {\n",
              "        vertical-align: top;\n",
              "    }\n",
              "\n",
              "    .dataframe thead th {\n",
              "        text-align: right;\n",
              "    }\n",
              "</style>\n",
              "<table border=\"1\" class=\"dataframe\">\n",
              "  <thead>\n",
              "    <tr style=\"text-align: right;\">\n",
              "      <th></th>\n",
              "      <th>Survived</th>\n",
              "      <th>Pclass</th>\n",
              "      <th>Sex</th>\n",
              "      <th>Age</th>\n",
              "      <th>SibSp</th>\n",
              "      <th>Parch</th>\n",
              "      <th>Fare</th>\n",
              "      <th>Cabin_floor_0</th>\n",
              "      <th>Cabin_floor_1</th>\n",
              "      <th>Cabin_floor_2</th>\n",
              "      <th>Cabin_floor_3</th>\n",
              "      <th>Cabin_floor_4</th>\n",
              "      <th>Cabin_floor_5</th>\n",
              "      <th>Cabin_floor_6</th>\n",
              "      <th>Cabin_floor_7</th>\n",
              "      <th>Cabin_floor_8</th>\n",
              "      <th>Embarked_0</th>\n",
              "      <th>Embarked_1</th>\n",
              "      <th>Embarked_2</th>\n",
              "    </tr>\n",
              "  </thead>\n",
              "  <tbody>\n",
              "    <tr>\n",
              "      <th>0</th>\n",
              "      <td>0</td>\n",
              "      <td>3</td>\n",
              "      <td>1</td>\n",
              "      <td>22.0</td>\n",
              "      <td>1</td>\n",
              "      <td>0</td>\n",
              "      <td>7.2500</td>\n",
              "      <td>0.0</td>\n",
              "      <td>0.0</td>\n",
              "      <td>0.0</td>\n",
              "      <td>0.0</td>\n",
              "      <td>0.0</td>\n",
              "      <td>0.0</td>\n",
              "      <td>0.0</td>\n",
              "      <td>1.0</td>\n",
              "      <td>0.0</td>\n",
              "      <td>0.0</td>\n",
              "      <td>0.0</td>\n",
              "      <td>1.0</td>\n",
              "    </tr>\n",
              "    <tr>\n",
              "      <th>1</th>\n",
              "      <td>1</td>\n",
              "      <td>1</td>\n",
              "      <td>0</td>\n",
              "      <td>38.0</td>\n",
              "      <td>1</td>\n",
              "      <td>0</td>\n",
              "      <td>71.2833</td>\n",
              "      <td>0.0</td>\n",
              "      <td>0.0</td>\n",
              "      <td>1.0</td>\n",
              "      <td>0.0</td>\n",
              "      <td>0.0</td>\n",
              "      <td>0.0</td>\n",
              "      <td>0.0</td>\n",
              "      <td>0.0</td>\n",
              "      <td>0.0</td>\n",
              "      <td>1.0</td>\n",
              "      <td>0.0</td>\n",
              "      <td>0.0</td>\n",
              "    </tr>\n",
              "    <tr>\n",
              "      <th>2</th>\n",
              "      <td>1</td>\n",
              "      <td>3</td>\n",
              "      <td>0</td>\n",
              "      <td>26.0</td>\n",
              "      <td>0</td>\n",
              "      <td>0</td>\n",
              "      <td>7.9250</td>\n",
              "      <td>0.0</td>\n",
              "      <td>0.0</td>\n",
              "      <td>0.0</td>\n",
              "      <td>0.0</td>\n",
              "      <td>0.0</td>\n",
              "      <td>0.0</td>\n",
              "      <td>0.0</td>\n",
              "      <td>1.0</td>\n",
              "      <td>0.0</td>\n",
              "      <td>0.0</td>\n",
              "      <td>0.0</td>\n",
              "      <td>1.0</td>\n",
              "    </tr>\n",
              "    <tr>\n",
              "      <th>3</th>\n",
              "      <td>1</td>\n",
              "      <td>1</td>\n",
              "      <td>0</td>\n",
              "      <td>35.0</td>\n",
              "      <td>1</td>\n",
              "      <td>0</td>\n",
              "      <td>53.1000</td>\n",
              "      <td>0.0</td>\n",
              "      <td>0.0</td>\n",
              "      <td>1.0</td>\n",
              "      <td>0.0</td>\n",
              "      <td>0.0</td>\n",
              "      <td>0.0</td>\n",
              "      <td>0.0</td>\n",
              "      <td>0.0</td>\n",
              "      <td>0.0</td>\n",
              "      <td>0.0</td>\n",
              "      <td>0.0</td>\n",
              "      <td>1.0</td>\n",
              "    </tr>\n",
              "    <tr>\n",
              "      <th>4</th>\n",
              "      <td>0</td>\n",
              "      <td>3</td>\n",
              "      <td>1</td>\n",
              "      <td>35.0</td>\n",
              "      <td>0</td>\n",
              "      <td>0</td>\n",
              "      <td>8.0500</td>\n",
              "      <td>0.0</td>\n",
              "      <td>0.0</td>\n",
              "      <td>0.0</td>\n",
              "      <td>0.0</td>\n",
              "      <td>0.0</td>\n",
              "      <td>0.0</td>\n",
              "      <td>0.0</td>\n",
              "      <td>1.0</td>\n",
              "      <td>0.0</td>\n",
              "      <td>0.0</td>\n",
              "      <td>0.0</td>\n",
              "      <td>1.0</td>\n",
              "    </tr>\n",
              "  </tbody>\n",
              "</table>\n",
              "</div>"
            ],
            "text/plain": [
              "   Survived  Pclass  Sex  ...  Embarked_0  Embarked_1  Embarked_2\n",
              "0         0       3    1  ...         0.0         0.0         1.0\n",
              "1         1       1    0  ...         1.0         0.0         0.0\n",
              "2         1       3    0  ...         0.0         0.0         1.0\n",
              "3         1       1    0  ...         0.0         0.0         1.0\n",
              "4         0       3    1  ...         0.0         0.0         1.0\n",
              "\n",
              "[5 rows x 19 columns]"
            ]
          },
          "metadata": {
            "tags": []
          }
        },
        {
          "output_type": "stream",
          "text": [
            "<class 'pandas.core.frame.DataFrame'>\n",
            "Int64Index: 889 entries, 0 to 890\n",
            "Data columns (total 19 columns):\n",
            " #   Column         Non-Null Count  Dtype  \n",
            "---  ------         --------------  -----  \n",
            " 0   Survived       889 non-null    int64  \n",
            " 1   Pclass         889 non-null    int64  \n",
            " 2   Sex            889 non-null    int64  \n",
            " 3   Age            889 non-null    float64\n",
            " 4   SibSp          889 non-null    int64  \n",
            " 5   Parch          889 non-null    int64  \n",
            " 6   Fare           889 non-null    float64\n",
            " 7   Cabin_floor_0  889 non-null    float64\n",
            " 8   Cabin_floor_1  889 non-null    float64\n",
            " 9   Cabin_floor_2  889 non-null    float64\n",
            " 10  Cabin_floor_3  889 non-null    float64\n",
            " 11  Cabin_floor_4  889 non-null    float64\n",
            " 12  Cabin_floor_5  889 non-null    float64\n",
            " 13  Cabin_floor_6  889 non-null    float64\n",
            " 14  Cabin_floor_7  889 non-null    float64\n",
            " 15  Cabin_floor_8  889 non-null    float64\n",
            " 16  Embarked_0     889 non-null    float64\n",
            " 17  Embarked_1     889 non-null    float64\n",
            " 18  Embarked_2     889 non-null    float64\n",
            "dtypes: float64(14), int64(5)\n",
            "memory usage: 178.9 KB\n"
          ],
          "name": "stdout"
        },
        {
          "output_type": "display_data",
          "data": {
            "text/plain": [
              "None"
            ]
          },
          "metadata": {
            "tags": []
          }
        }
      ]
    },
    {
      "cell_type": "markdown",
      "metadata": {
        "id": "N_Tf3aAyz17R"
      },
      "source": [
        "Removing the last columns of Cabin_floor and Embarked, as all zeros implies these categories"
      ]
    },
    {
      "cell_type": "code",
      "metadata": {
        "colab": {
          "base_uri": "https://localhost:8080/",
          "height": 459
        },
        "id": "j7pOSzs1zWhe",
        "outputId": "d9779500-6abf-4b65-8441-d54405cca186"
      },
      "source": [
        "df_data_org = df_data_org.drop(['Cabin_floor_8', 'Embarked_2'], axis=1)\n",
        "print(df_data_org.shape)\n",
        "display(df_data_org.info())"
      ],
      "execution_count": 35,
      "outputs": [
        {
          "output_type": "stream",
          "text": [
            "(889, 17)\n",
            "<class 'pandas.core.frame.DataFrame'>\n",
            "Int64Index: 889 entries, 0 to 890\n",
            "Data columns (total 17 columns):\n",
            " #   Column         Non-Null Count  Dtype  \n",
            "---  ------         --------------  -----  \n",
            " 0   Survived       889 non-null    int64  \n",
            " 1   Pclass         889 non-null    int64  \n",
            " 2   Sex            889 non-null    int64  \n",
            " 3   Age            889 non-null    float64\n",
            " 4   SibSp          889 non-null    int64  \n",
            " 5   Parch          889 non-null    int64  \n",
            " 6   Fare           889 non-null    float64\n",
            " 7   Cabin_floor_0  889 non-null    float64\n",
            " 8   Cabin_floor_1  889 non-null    float64\n",
            " 9   Cabin_floor_2  889 non-null    float64\n",
            " 10  Cabin_floor_3  889 non-null    float64\n",
            " 11  Cabin_floor_4  889 non-null    float64\n",
            " 12  Cabin_floor_5  889 non-null    float64\n",
            " 13  Cabin_floor_6  889 non-null    float64\n",
            " 14  Cabin_floor_7  889 non-null    float64\n",
            " 15  Embarked_0     889 non-null    float64\n",
            " 16  Embarked_1     889 non-null    float64\n",
            "dtypes: float64(12), int64(5)\n",
            "memory usage: 165.0 KB\n"
          ],
          "name": "stdout"
        },
        {
          "output_type": "display_data",
          "data": {
            "text/plain": [
              "None"
            ]
          },
          "metadata": {
            "tags": []
          }
        }
      ]
    },
    {
      "cell_type": "markdown",
      "metadata": {
        "id": "dDIBG-fz3pih"
      },
      "source": [
        "No 2 columns have very high correlation, so we take all"
      ]
    },
    {
      "cell_type": "code",
      "metadata": {
        "colab": {
          "base_uri": "https://localhost:8080/",
          "height": 344
        },
        "id": "ZL7kMXI927Uj",
        "outputId": "34136a16-7528-431a-c675-1cf1287e4d9d"
      },
      "source": [
        "corr = df_data_org.corr()\n",
        "sn.heatmap(corr)"
      ],
      "execution_count": 38,
      "outputs": [
        {
          "output_type": "execute_result",
          "data": {
            "text/plain": [
              "<matplotlib.axes._subplots.AxesSubplot at 0x7f00eb1c3f50>"
            ]
          },
          "metadata": {
            "tags": []
          },
          "execution_count": 38
        },
        {
          "output_type": "display_data",
          "data": {
            "image/png": "[encoded data removed]",
            "text/plain": [
              "<Figure size 432x288 with 2 Axes>"
            ]
          },
          "metadata": {
            "tags": [],
            "needs_background": "light"
          }
        }
      ]
    },
    {
      "cell_type": "markdown",
      "metadata": {
        "id": "LpYoRDPt2mVA"
      },
      "source": [
        "As columns have different scales, we standardize the data to keep the relative distances within features same"
      ]
    },
    {
      "cell_type": "code",
      "metadata": {
        "colab": {
          "base_uri": "https://localhost:8080/"
        },
        "id": "889H0Kc-0N36",
        "outputId": "cc04ba84-8749-4704-e711-ecfdb33d3097"
      },
      "source": [
        "X = np.array(df_data_org.drop('Survived', axis=1))\n",
        "y = np.array(df_data_org.Survived)\n",
        "print(len(X))\n",
        "print(len(y))\n",
        "\n",
        "\n",
        "X_train_org, X_test_org, y_train, y_test = train_test_split(X, y, test_size=0.30,random_state=0)\n",
        "print(X_train_org.shape, y_train.shape)\n",
        "print(X_test_org.shape, y_test.shape)\n",
        "\n",
        "'''Standardize X'''\n",
        "scaler = StandardScaler()\n",
        "X_train_std = scaler.fit_transform(X_train_org)\n",
        "X_test_std = scaler.transform(X_test_org)\n"
      ],
      "execution_count": 39,
      "outputs": [
        {
          "output_type": "stream",
          "text": [
            "889\n",
            "889\n",
            "(622, 16) (622,)\n",
            "(267, 16) (267,)\n"
          ],
          "name": "stdout"
        }
      ]
    },
    {
      "cell_type": "code",
      "metadata": {
        "id": "mrVxOo5S3GiU"
      },
      "source": [
        "class MyLogRegressor(object):\n",
        "    def __init__(self, lr=0.2, itrs=100):\n",
        "        self.lr = lr \n",
        "        self.itrs = itrs\n",
        "        self.W = None\n",
        "        self.cost = None\n",
        "        self.method = None\n",
        "    \n",
        "    def fit(self, X, Y):\n",
        "        X = np.insert(X, 0, 1, axis=1)\n",
        "        n = len(Y)\n",
        "        W = np.zeros(X.shape[1])\n",
        "        cost = []\n",
        "        for i in range(self.itrs):\n",
        "            Z = X.dot(W)\n",
        "            H = self.sigmoid(Z)\n",
        "            W = self.gradient_desc(X,H,W,Y,n)\n",
        "            cost.append(self.cal_cost(H,W,Y)) \n",
        "        self.W = W\n",
        "        self.cost = cost\n",
        "        return self\n",
        "\n",
        "    def gradient_desc(self,X,H,W,Y,n):\n",
        "        gradient = np.dot(X.T, (H - Y)) / n\n",
        "        W = W - self.lr * gradient\n",
        "        return W \n",
        "\n",
        "    def sigmoid(self, Z):\n",
        "        return 1 / (1 + np.exp(-Z))\n",
        "\n",
        "    def cal_cost(self,H,W,Y):\n",
        "        n = len(Y)\n",
        "        cost = (np.sum(-Y.T.dot(np.log(H)) - (1 - Y).T.dot(np.log(1 - H)))) / n\n",
        "        return cost\n",
        "\n",
        "    def predict(self, X):\n",
        "        X = np.insert(X, 0, 1, axis=1)\n",
        "        Y_pred = [round(self.sigmoid(i.dot(self.W))) for i in X ]\n",
        "        return Y_pred\n",
        "\n",
        "    def cal_score(self,X, Y):\n",
        "        score = sum(self.predict(X) == Y) / len(Y)\n",
        "        return score\n",
        "    \n",
        "    def plot_cost(self): \n",
        "        plt.plot(range(self.itrs), self.cost)\n",
        "        plt.xlabel('Iterations')\n",
        "        plt.ylabel('Cost')\n",
        "        plt.title('Convergence Graph of Cost Function')\n",
        "        # plt.legend()\n",
        "        plt.show()\n"
      ],
      "execution_count": 42,
      "outputs": []
    },
    {
      "cell_type": "code",
      "metadata": {
        "colab": {
          "base_uri": "https://localhost:8080/",
          "height": 577
        },
        "id": "sPgcv64W4lTG",
        "outputId": "0408fd4d-887e-4e48-b64b-243d0d4727fa"
      },
      "source": [
        "itrs = 500\n",
        "logreg = MyLogRegressor(lr=0.2, itrs=itrs).fit(X_train_std, y_train)\n",
        "logreg.plot_cost()\n",
        "\n",
        "myscore1 = logreg.cal_score(X_train_std,y_train)\n",
        "y_pred1 = logreg.predict(X_train_std)\n",
        "print(\"Training accuracy:\",myscore1)\n",
        "conf_mat1 = confusion_matrix(y_train, y_pred1)\n",
        "df_cm1 = pd.DataFrame(conf_mat1, index = [i for i in range(2)], columns = ['female', 'male'])\n",
        "plt.figure()\n",
        "sn.heatmap(df_cm1, annot=True, cmap='Blues')"
      ],
      "execution_count": 45,
      "outputs": [
        {
          "output_type": "display_data",
          "data": {
            "image/png": "[encoded data removed]",
            "text/plain": [
              "<Figure size 432x288 with 1 Axes>"
            ]
          },
          "metadata": {
            "tags": [],
            "needs_background": "light"
          }
        },
        {
          "output_type": "stream",
          "text": [
            "Training accuracy: 0.8279742765273312\n"
          ],
          "name": "stdout"
        },
        {
          "output_type": "execute_result",
          "data": {
            "text/plain": [
              "<matplotlib.axes._subplots.AxesSubplot at 0x7f00e2386fd0>"
            ]
          },
          "metadata": {
            "tags": []
          },
          "execution_count": 45
        },
        {
          "output_type": "display_data",
          "data": {
            "image/png": "[encoded data removed]",
            "text/plain": [
              "<Figure size 432x288 with 2 Axes>"
            ]
          },
          "metadata": {
            "tags": [],
            "needs_background": "light"
          }
        }
      ]
    },
    {
      "cell_type": "code",
      "metadata": {
        "colab": {
          "base_uri": "https://localhost:8080/",
          "height": 299
        },
        "id": "yPe7R9Ab43_u",
        "outputId": "be0cd997-1e01-4d83-a0bc-4e8dffeb8a95"
      },
      "source": [
        "myscore2 = logreg.cal_score(X_test_std,y_test)\n",
        "y_pred2 = logreg.predict(X_test_std)\n",
        "print(\"Testing accuracy:\",myscore2)\n",
        "conf_mat2 = confusion_matrix(y_test, y_pred2)\n",
        "df_cm2 = pd.DataFrame(conf_mat2, index = [i for i in range(2)], columns = ['female', 'male'])\n",
        "plt.figure()\n",
        "sn.heatmap(df_cm2, annot=True, cmap='Blues')"
      ],
      "execution_count": 46,
      "outputs": [
        {
          "output_type": "stream",
          "text": [
            "Testing accuracy: 0.7940074906367042\n"
          ],
          "name": "stdout"
        },
        {
          "output_type": "execute_result",
          "data": {
            "text/plain": [
              "<matplotlib.axes._subplots.AxesSubplot at 0x7f00e2086f50>"
            ]
          },
          "metadata": {
            "tags": []
          },
          "execution_count": 46
        },
        {
          "output_type": "display_data",
          "data": {
            "image/png": "[encoded data removed]",
            "text/plain": [
              "<Figure size 432x288 with 2 Axes>"
            ]
          },
          "metadata": {
            "tags": [],
            "needs_background": "light"
          }
        }
      ]
    },
    {
      "cell_type": "markdown",
      "metadata": {
        "id": "fqeihwLm5bb9"
      },
      "source": [
        "Comparing with SKlearn's Logistic regression"
      ]
    },
    {
      "cell_type": "code",
      "metadata": {
        "colab": {
          "base_uri": "https://localhost:8080/"
        },
        "id": "T-YIX4xU5F6_",
        "outputId": "92b1bbcd-5b8c-4692-dbf9-ab838572f836"
      },
      "source": [
        "clf = LogisticRegression(random_state=1,max_iter=100).fit(X_train_std, y_train)\n",
        "sk_score = clf.score(X_test_std, y_test)\n",
        "print(sk_score)\n",
        "\n",
        "clf = LogisticRegression(random_state=1,max_iter=1000).fit(X_train_org, y_train)\n",
        "sk_score = clf.score(X_test_org, y_test)\n",
        "print(sk_score)"
      ],
      "execution_count": 47,
      "outputs": [
        {
          "output_type": "stream",
          "text": [
            "0.7940074906367042\n",
            "0.7902621722846442\n"
          ],
          "name": "stdout"
        }
      ]
    }
  ]
}